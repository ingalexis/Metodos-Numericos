{
 "cells": [
  {
   "cell_type": "code",
   "execution_count": 1,
   "metadata": {
    "collapsed": false
   },
   "outputs": [
    {
     "name": "stdout",
     "output_type": "stream",
     "text": [
      "El promedio de edades es: 20.40\n",
      "La varianza de las edades es: 1.936842\n",
      "La desviacion estandar de las edades es: 1.391705\n"
     ]
    }
   ],
   "source": [
    "import math\n",
    "import pylab as pl\n",
    "X = [1,2,3,4,5,6,7,8,9,10,11,12,13,14,15,16,17,18,19,20]\n",
    "Y = [19.0,19.0,23.0,21.0,21.0,21.0,19.0,18.0,20.0,22.0,22.0,21.0,19.0,19.0,20.0,20.0,20.0,21.0,20.0,23.0]\n",
    "n = 20\n",
    "\n",
    "def Media(Arr):\n",
    "    x = 0.0\n",
    "    aux = 0.0\n",
    "    suma = 0.0\n",
    "    for i in range(n):\n",
    "        aux = Arr[i]\n",
    "        suma = suma + aux\n",
    "    x = suma/n\n",
    "    return x\n",
    "\n",
    "def DEstandar():\n",
    "    suma = 0.0\n",
    "    exp = 0.0\n",
    "    var = 0.0\n",
    "    dEst = 0.0\n",
    "    m = Media(Y)\n",
    "    for i in range(20):\n",
    "        aux = Y[i] - m\n",
    "        exp = aux**2\n",
    "        suma = suma + exp    \n",
    "    var = suma/(n-1)\n",
    "    dEst = abs(var**0.5)\n",
    "    print (\"El promedio de edades es: %.2f\") % m\n",
    "    print (\"La varianza de las edades es: %.6f\") % var\n",
    "    print (\"La desviacion estandar de las edades es: %.6f\") % dEst\n",
    "    \n",
    "DEstandar()"
   ]
  },
  {
   "cell_type": "markdown",
   "metadata": {
    "collapsed": true
   },
   "source": [
    "#Regresion Lineal\n"
   ]
  },
  {
   "cell_type": "code",
   "execution_count": 18,
   "metadata": {
    "collapsed": false
   },
   "outputs": [
    {
     "name": "stdout",
     "output_type": "stream",
     "text": [
      "a1= 0.028571 \n",
      "a0= 20.100000 \n"
     ]
    }
   ],
   "source": [
    "def regreLine(): \n",
    "    xy=0.0\n",
    "    x=0.0\n",
    "    y=0.0\n",
    "    x2=0.0     \n",
    "    for i in range(20):\n",
    "        xy=xy + X[i]*Y[i]\n",
    "\n",
    "    for i in range(20):\n",
    "        x=x+X[i]\n",
    "        y=y+Y[i]\n",
    "    \n",
    "    for i in range(20):\n",
    "        x2=x2 + ((X[i])**2)\n",
    "    \n",
    "    a1= (n*xy-x*y)/(n*x2-x**2)\n",
    "    a0= Media(Y) - a1*Media(X)\n",
    "    \n",
    "    print \"a1= %f \" % a1\n",
    "    print \"a0= %f \" % a0\n",
    "    \n",
    "    RL=[]\n",
    "    for i in range(20):    \n",
    "        f=a0 + a1*i    \n",
    "        RL.append(f)\n",
    "        \n",
    "    pl.plot(X,Y,'o')\n",
    "    pl.plot(X,RL)\n",
    "    pl.title(\"Regresion lineal\")\n",
    "    pl.grid(True)\n",
    "    pl.show()\n",
    "\n",
    "regreLine()\n"
   ]
  },
  {
   "cell_type": "code",
   "execution_count": null,
   "metadata": {
    "collapsed": true
   },
   "outputs": [],
   "source": []
  }
 ],
 "metadata": {
  "kernelspec": {
   "display_name": "Python 2",
   "language": "python",
   "name": "python2"
  },
  "language_info": {
   "codemirror_mode": {
    "name": "ipython",
    "version": 2
   },
   "file_extension": ".py",
   "mimetype": "text/x-python",
   "name": "python",
   "nbconvert_exporter": "python",
   "pygments_lexer": "ipython2",
   "version": "2.7.10"
  }
 },
 "nbformat": 4,
 "nbformat_minor": 0
}
