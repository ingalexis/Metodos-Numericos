{
 "cells": [
  {
   "cell_type": "markdown",
   "metadata": {},
   "source": [
    "#Interpolación de newton"
   ]
  },
  {
   "cell_type": "code",
   "execution_count": 55,
   "metadata": {
    "collapsed": false
   },
   "outputs": [
    {
     "name": "stdout",
     "output_type": "stream",
     "text": [
      "Ingrese x: 2\n",
      "Ingrese n: 3\n",
      "EL resultado de la interpolacion newton es: -0.048519 \n"
     ]
    }
   ],
   "source": [
    "import numpy as np\n",
    "import pylab as pl\n",
    "\n",
    "\n",
    "def f(x):\n",
    "    r=np.log(x)\n",
    "    return r\n",
    "\n",
    "def recortai(ar):\n",
    "    au=[]\n",
    "    for i in range(1,len(ar)):\n",
    "        au.append(ar[i])\n",
    "    return au\n",
    "\n",
    "def recortaj(ar):\n",
    "    au=[]\n",
    "    for i in range(0,len(ar)-1):\n",
    "        au.append(ar[i])\n",
    "    return au\n",
    "b=[]    \n",
    "def f1(xarr):     \n",
    "    if(len(xarr)>1):        \n",
    "        res=(f1(recortaj(xarr))-f1(recortai(xarr)))/(xarr[0]-xarr[len(xarr)-1])       \n",
    "        b.append(res)        \n",
    "        return res\n",
    "    else:            \n",
    "        return f(xarr[0])    \n",
    "\n",
    "def fres(X,n):    \n",
    "    aux=[]\n",
    "    aux.append(1)\n",
    "    f=0.0\n",
    "    for i in range(0,len(b)):\n",
    "        aux.append(b[i-1]*(X-b[i]))\n",
    "    for j in range(0,n):\n",
    "        f=f+b[i]*aux[i]\n",
    "    return f\n",
    "\n",
    "x=[6.0,4.0,1.0]\n",
    "f1(x)\n",
    "print \"EL resultado de la interpolacion newton es: %f \" % fres(input(\"Ingrese x: \"),input(\"Ingrese n: \"))"
   ]
  },
  {
   "cell_type": "code",
   "execution_count": null,
   "metadata": {
    "collapsed": true
   },
   "outputs": [],
   "source": []
  }
 ],
 "metadata": {
  "kernelspec": {
   "display_name": "Python 2",
   "language": "python",
   "name": "python2"
  },
  "language_info": {
   "codemirror_mode": {
    "name": "ipython",
    "version": 2
   },
   "file_extension": ".py",
   "mimetype": "text/x-python",
   "name": "python",
   "nbconvert_exporter": "python",
   "pygments_lexer": "ipython2",
   "version": "2.7.10"
  }
 },
 "nbformat": 4,
 "nbformat_minor": 0
}
