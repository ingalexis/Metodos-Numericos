{
 "cells": [
  {
   "cell_type": "code",
   "execution_count": 2,
   "metadata": {
    "collapsed": true
   },
   "outputs": [],
   "source": [
    "import math"
   ]
  },
  {
   "cell_type": "code",
   "execution_count": 3,
   "metadata": {
    "collapsed": false
   },
   "outputs": [],
   "source": [
    "def f(x):\n",
    "    ecuacion = -0.1*(x**4)-0.15*(x**3)-0.5*(x**2)-0.25*x+1.2"
   ]
  },
  {
   "cell_type": "code",
   "execution_count": 4,
   "metadata": {
    "collapsed": false
   },
   "outputs": [],
   "source": [
    "def f(x,orden):\n",
    "    i=0\n",
    "    calculo=0.0\n",
    "    while i<=orden:\n",
    "        if i==0:\n",
    "            calculo+=-0.1*(x**4)-0.15*(x**3)-0.5*(x**2)-0.25*x+1.2            \n",
    "        elif i==1:\n",
    "            calculo+=(-0.4*(x**3)-0.45*(x**2)-1*(x**1)-0.25)\n",
    "        elif i==2:\n",
    "            calculo+=(-1.2*(x**2)-0.90*x-1)/2\n",
    "        elif i==3:\n",
    "            calculo+=(-2.4*x-0.90)/6\n",
    "        elif i==4:\n",
    "            calculo+=(-2.4)/24\n",
    "        i+=1 \n",
    "        print calculo\n",
    "    print calculo \n",
    "        "
   ]
  },
  {
   "cell_type": "code",
   "execution_count": 6,
   "metadata": {
    "collapsed": false
   },
   "outputs": [
    {
     "name": "stdout",
     "output_type": "stream",
     "text": [
      "ingrese xi0\n",
      "ingrese orden4\n",
      "1.2\n",
      "0.95\n",
      "0.45\n",
      "0.3\n",
      "0.2\n",
      "0.2\n"
     ]
    }
   ],
   "source": [
    "xi=input(\"ingrese xi\")\n",
    "ord= input(\"ingrese orden\")\n",
    "f(xi,ord)"
   ]
  },
  {
   "cell_type": "code",
   "execution_count": null,
   "metadata": {
    "collapsed": true
   },
   "outputs": [],
   "source": []
  }
 ],
 "metadata": {
  "kernelspec": {
   "display_name": "Python 2",
   "language": "python",
   "name": "python2"
  },
  "language_info": {
   "codemirror_mode": {
    "name": "ipython",
    "version": 2
   },
   "file_extension": ".py",
   "mimetype": "text/x-python",
   "name": "python",
   "nbconvert_exporter": "python",
   "pygments_lexer": "ipython2",
   "version": "2.7.10"
  }
 },
 "nbformat": 4,
 "nbformat_minor": 0
}
