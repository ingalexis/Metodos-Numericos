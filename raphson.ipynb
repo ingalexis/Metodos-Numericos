{
 "cells": [
  {
   "cell_type": "code",
   "execution_count": 5,
   "metadata": {
    "collapsed": false
   },
   "outputs": [
    {
     "name": "stdout",
     "output_type": "stream",
     "text": [
      "i \t | \t xi \t | \t ea \t | \t et  \n",
      "0 \t | \t 0 \t | \t - \t | \t 1.000000 \n",
      "1 \t |  0.566311 \t |  0.117093 \t | \t 0.001468 \n",
      "2 \t |  0.567143 \t |  0.001467 \t | \t 0.000000 \n",
      "3 \t |  0.567143 \t |  0.000000 \t | \t 0.000000 \n"
     ]
    }
   ],
   "source": [
    "import numpy as np\n",
    "import matplotlib.pyplot as pl\n",
    "import math as m\n",
    "\n",
    "er=4*10**(-6)\n",
    "\n",
    "xaux=0.0\n",
    "def f(x):\n",
    "    fx=(m.exp(-x))-x\n",
    "    return fx\n",
    "\n",
    "def fp(x):\n",
    "    fx=(-m.exp(-x))-1\n",
    "    return fx\n",
    "    \n",
    "def raphson(xi):\n",
    "    xii=xi-(f(xi)/fp(xi))\n",
    "    return xii\n",
    "\n",
    "def ea(valoractual,valoranterior):\n",
    "    error=abs((valoractual-valoranterior)/valoractual)\n",
    "    return error\n",
    "\n",
    "def et(valoraprox):   \n",
    "    valorreal=0.56714329\n",
    "    errort=abs((valorreal-valoraprox)/valorreal)\n",
    "    return errort\n",
    "\n",
    "    \n",
    "vl=raphson(xaux)\n",
    "print \"i \\t | \\t xi \\t | \\t ea \\t | \\t et  \"\n",
    "i=0\n",
    "print \"%d \\t | \\t 0 \\t | \\t - \\t | \\t %f \" % (i,et(0))\n",
    "aux=vl\n",
    "i+=1\n",
    "vl=raphson(aux)\n",
    "print \"%d \\t |  %f \\t |  %f \\t | \\t %f \" % (i,vl,ea(vl,aux),et(vl))\n",
    "while(ea(vl,aux)>=0.000005):    \n",
    "    aux=vl\n",
    "    i+=1\n",
    "    xaux+=1.0\n",
    "    vl=raphson(aux)\n",
    "    print \"%d \\t |  %f \\t |  %f \\t | \\t %f \" % (i,vl,ea(vl,aux),et(vl))"
   ]
  },
  {
   "cell_type": "code",
   "execution_count": null,
   "metadata": {
    "collapsed": true
   },
   "outputs": [],
   "source": []
  },
  {
   "cell_type": "code",
   "execution_count": null,
   "metadata": {
    "collapsed": true
   },
   "outputs": [],
   "source": []
  }
 ],
 "metadata": {
  "kernelspec": {
   "display_name": "Python 2",
   "language": "python",
   "name": "python2"
  },
  "language_info": {
   "codemirror_mode": {
    "name": "ipython",
    "version": 2
   },
   "file_extension": ".py",
   "mimetype": "text/x-python",
   "name": "python",
   "nbconvert_exporter": "python",
   "pygments_lexer": "ipython2",
   "version": "2.7.10"
  }
 },
 "nbformat": 4,
 "nbformat_minor": 0
}
