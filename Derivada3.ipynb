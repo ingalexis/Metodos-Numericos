{
 "cells": [
  {
   "cell_type": "code",
   "execution_count": 6,
   "metadata": {
    "collapsed": true
   },
   "outputs": [],
   "source": [
    "import math"
   ]
  },
  {
   "cell_type": "code",
   "execution_count": 15,
   "metadata": {
    "collapsed": false
   },
   "outputs": [],
   "source": [
    "def f(x):\n",
    "    ecuacion = (-(0.1*(x**4)) - 0.15*(x**3) - 0.5*(x**2)-0.25*x + 1.2)\n",
    "    return ecuacion"
   ]
  },
  {
   "cell_type": "code",
   "execution_count": 24,
   "metadata": {
    "collapsed": false
   },
   "outputs": [],
   "source": [
    "def fi(x):\n",
    "    h=0.25\n",
    "    fp=(f(x+h)-f(x))/((x+h)-x)\n",
    "    fp2=(f(x+h)-f(x-h))/(2*h)\n",
    "    fp3=(-0.4*(x**3)-0.45*(x**2)-1*(x**1)-0.25)\n",
    "    print \"fp : %f  fp2: %f fp3: %f\" % (fp,fp2,fp3)"
   ]
  },
  {
   "cell_type": "code",
   "execution_count": 25,
   "metadata": {
    "collapsed": false
   },
   "outputs": [
    {
     "name": "stdout",
     "output_type": "stream",
     "text": [
      "fp : -1.154688  fp2: -0.934375 fp3: -0.912500\n"
     ]
    }
   ],
   "source": [
    "fi(0.5)"
   ]
  },
  {
   "cell_type": "code",
   "execution_count": null,
   "metadata": {
    "collapsed": true
   },
   "outputs": [],
   "source": []
  }
 ],
 "metadata": {
  "kernelspec": {
   "display_name": "Python 2",
   "language": "python",
   "name": "python2"
  },
  "language_info": {
   "codemirror_mode": {
    "name": "ipython",
    "version": 2
   },
   "file_extension": ".py",
   "mimetype": "text/x-python",
   "name": "python",
   "nbconvert_exporter": "python",
   "pygments_lexer": "ipython2",
   "version": "2.7.10"
  }
 },
 "nbformat": 4,
 "nbformat_minor": 0
}
