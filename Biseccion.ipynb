{
 "cells": [
  {
   "cell_type": "markdown",
   "metadata": {},
   "source": [
    "#Metodo Cerrado : Bisección"
   ]
  },
  {
   "cell_type": "code",
   "execution_count": 19,
   "metadata": {
    "collapsed": false
   },
   "outputs": [
    {
     "name": "stdout",
     "output_type": "stream",
     "text": [
      "\t \t \t Biseccion \n",
      "\n",
      "i \t | \t Xr \t \t | \t ErrorAprox \t | \t ErroRelativo\n",
      "1 \t | \t 0.500000 \t | \t 100.000000 \t | \t 11.838858 \n",
      "2 \t | \t 0.650000 \t | \t 23.076923 \t | \t 14.609484 \n",
      "3 \t | \t 0.575000 \t | \t 13.043478 \t | \t 1.385313 \n",
      "4 \t | \t 0.537500 \t | \t 6.976744 \t | \t 5.226773 \n",
      "5 \t | \t 0.556250 \t | \t 3.370787 \t | \t 1.920730 \n",
      "6 \t | \t 0.565625 \t | \t 1.657459 \t | \t 0.267708 \n",
      "7 \t | \t 0.570312 \t | \t 0.821918 \t | \t 0.558802 \n",
      "8 \t | \t 0.567969 \t | \t 0.412655 \t | \t 0.145547 \n",
      "9 \t | \t 0.566797 \t | \t 0.206754 \t | \t 0.061081 \n",
      "10 \t | \t 0.567383 \t | \t 0.103270 \t | \t 0.042233 \n",
      "11 \t | \t 0.567090 \t | \t 0.051662 \t | \t 0.009424 \n",
      "12 \t | \t 0.567236 \t | \t 0.025824 \t | \t 0.016405 \n",
      "13 \t | \t 0.567163 \t | \t 0.012914 \t | \t 0.003490 \n",
      "14 \t | \t 0.567126 \t | \t 0.006457 \t | \t 0.002967 \n",
      "15 \t | \t 0.567145 \t | \t 0.003229 \t | \t 0.000262 \n",
      "16 \t | \t 0.567136 \t | \t 0.001614 \t | \t 0.001352 \n",
      "17 \t | \t 0.567140 \t | \t 0.000807 \t | \t 0.000545 \n",
      "18 \t | \t 0.567142 \t | \t 0.000404 \t | \t 0.000142 \n",
      "19 \t | \t 0.567144 \t | \t 0.000202 \t | \t 0.000060 \n",
      "20 \t | \t 0.567143 \t | \t 0.000101 \t | \t 0.000041 \n"
     ]
    }
   ],
   "source": [
    "import numpy as np\n",
    "import matplotlib.pyplot as plt\n",
    "import math as m\n",
    "er=0.000000000005\n",
    "\n",
    "def ea(valoractual,valoranterior):\n",
    "    error=(abs((valoractual-valoranterior)/valoractual))*100\n",
    "    return error\n",
    "\n",
    "def et(valoraprox):   \n",
    "    valorreal=0.56714329\n",
    "    errort=(abs((valorreal-valoraprox)/valorreal))*100\n",
    "    return errort\n",
    "\n",
    "def f(x):\n",
    "    fx=(m.exp(-x))-x\n",
    "    return fx\n",
    "\n",
    "def bisec():\n",
    "    xl=0.2\n",
    "    xu=0.8\n",
    "    xr=(xu+xl)/2\n",
    "    i=1\n",
    "    val_anterior=0.0\n",
    "    x=[]\n",
    "    y=[]\n",
    "    print \"\\t \\t \\t Biseccion \\n\"\n",
    "    print \"i \\t | \\t Xr \\t \\t | \\t ErrorAprox \\t | \\t ErroRelativo\"\n",
    "    while(i<21): \n",
    "        print \"%d \\t | \\t %f \\t | \\t %f \\t | \\t %f \" % (i,xr,ea(xr,val_anterior),et(xr))\n",
    "        y.append(f(xr))\n",
    "        x.append(i)\n",
    "        val_anterior=xr\n",
    "        if(f(xl)*f(xr)<0):\n",
    "            xu=xr\n",
    "        if(f(xl)*f(xr)>0):\n",
    "            xl=xr\n",
    "        xr=(xu+xl)/2\n",
    "        i=i+1\n",
    "    plt.plot(x,y,'r')\n",
    "    plt.grid(True)\n",
    "    plt.show()\n",
    "    \n",
    "bisec()"
   ]
  },
  {
   "cell_type": "code",
   "execution_count": null,
   "metadata": {
    "collapsed": false
   },
   "outputs": [],
   "source": []
  },
  {
   "cell_type": "code",
   "execution_count": null,
   "metadata": {
    "collapsed": true
   },
   "outputs": [],
   "source": []
  }
 ],
 "metadata": {
  "kernelspec": {
   "display_name": "Python 2",
   "language": "python",
   "name": "python2"
  },
  "language_info": {
   "codemirror_mode": {
    "name": "ipython",
    "version": 2
   },
   "file_extension": ".py",
   "mimetype": "text/x-python",
   "name": "python",
   "nbconvert_exporter": "python",
   "pygments_lexer": "ipython2",
   "version": "2.7.10"
  }
 },
 "nbformat": 4,
 "nbformat_minor": 0
}
