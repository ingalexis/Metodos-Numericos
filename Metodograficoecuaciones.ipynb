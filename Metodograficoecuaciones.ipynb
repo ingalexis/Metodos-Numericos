{
 "cells": [
  {
   "cell_type": "markdown",
   "metadata": {},
   "source": [
    "#solucion de sistemas pequeños de ecuaciones metodo grafico"
   ]
  },
  {
   "cell_type": "code",
   "execution_count": 4,
   "metadata": {
    "collapsed": false
   },
   "outputs": [],
   "source": [
    "import numpy as np\n",
    "import matplotlib.pyplot as plt\n",
    "\n",
    "def f1(x):\n",
    "    x2=((-1.5)*x)+9\n",
    "    return x2\n",
    "\n",
    "def f2(xi):\n",
    "    x22=(xi/2)+1\n",
    "    return x22\n",
    "\n",
    "xxg=[]\n",
    "xg=[]\n",
    "var=[]\n",
    "i=2.0\n",
    "while(i<=5):\n",
    "    xg.append(f1(i))\n",
    "    xxg.append(f2(i))\n",
    "    var.append(i)\n",
    "    i=i+0.5\n",
    "\n",
    "plt.plot(var,xg,'r')\n",
    "plt.plot(var,xxg,'b')\n",
    "plt.grid()\n",
    "plt.show()"
   ]
  },
  {
   "cell_type": "code",
   "execution_count": null,
   "metadata": {
    "collapsed": true
   },
   "outputs": [],
   "source": []
  }
 ],
 "metadata": {
  "kernelspec": {
   "display_name": "Python 2",
   "language": "python",
   "name": "python2"
  },
  "language_info": {
   "codemirror_mode": {
    "name": "ipython",
    "version": 2
   },
   "file_extension": ".py",
   "mimetype": "text/x-python",
   "name": "python",
   "nbconvert_exporter": "python",
   "pygments_lexer": "ipython2",
   "version": "2.7.10"
  }
 },
 "nbformat": 4,
 "nbformat_minor": 0
}
