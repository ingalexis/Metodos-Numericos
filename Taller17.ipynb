{
 "cells": [
  {
   "cell_type": "markdown",
   "metadata": {},
   "source": [
    "#17.1)"
   ]
  },
  {
   "cell_type": "code",
   "execution_count": 2,
   "metadata": {
    "collapsed": true
   },
   "outputs": [],
   "source": [
    "datos=[8.8,9.5,9.8,9.4,10.0,9.4,10.1,9.2,11.3,9.4,10.0,10.4,\n",
    "      7.9,10.4,9.8,9.8,9.5,8.9,8.8,10.6,10.1,9.5,9.6,10.2,8.9]\n",
    "import math\n",
    "import matplotlib.pylab as plt\n",
    "import pylab as pl\n",
    "import numpy as np"
   ]
  },
  {
   "cell_type": "markdown",
   "metadata": {},
   "source": [
    "##Determinar \n",
    "###a)La media"
   ]
  },
  {
   "cell_type": "code",
   "execution_count": 3,
   "metadata": {
    "collapsed": false
   },
   "outputs": [
    {
     "name": "stdout",
     "output_type": "stream",
     "text": [
      "La media de los datos es: 9.652000 \n"
     ]
    }
   ],
   "source": [
    "def Media(Arr):\n",
    "    n=len(Arr)\n",
    "    x = 0.0\n",
    "    aux = 0.0\n",
    "    suma = 0.0\n",
    "    for i in range(n):\n",
    "        aux = Arr[i]\n",
    "        suma = suma + aux\n",
    "    x = suma/n\n",
    "    return x\n",
    "print \"La media de los datos es: %f \" % Media(datos)"
   ]
  },
  {
   "cell_type": "markdown",
   "metadata": {},
   "source": [
    "###b)La desviación estándar"
   ]
  },
  {
   "cell_type": "code",
   "execution_count": 4,
   "metadata": {
    "collapsed": false
   },
   "outputs": [
    {
     "name": "stdout",
     "output_type": "stream",
     "text": [
      "La desviacion estandar de los datos: 0.703041\n"
     ]
    }
   ],
   "source": [
    "def sumcuadife(Arr):\n",
    "    sumt=0.0\n",
    "    med=Media(Arr)\n",
    "    for i in range(len(Arr)):\n",
    "        sumt=sumt+((Arr[i]-med)**2)\n",
    "    return sumt\n",
    "def desvEsta(Arrd):\n",
    "    to=math.sqrt(sumcuadife(Arrd)/(len(Arrd)-1))\n",
    "    return to\n",
    "\n",
    "print \"La desviacion estandar de los datos: %f\" % desvEsta(datos)"
   ]
  },
  {
   "cell_type": "markdown",
   "metadata": {},
   "source": [
    "###c)La varianza"
   ]
  },
  {
   "cell_type": "code",
   "execution_count": 5,
   "metadata": {
    "collapsed": false
   },
   "outputs": [
    {
     "name": "stdout",
     "output_type": "stream",
     "text": [
      "La varianza es igual a: 0.494267\n"
     ]
    }
   ],
   "source": [
    "def varianza(Arrv):\n",
    "    va=sumcuadife(Arrv)/(len(Arrv)-1)\n",
    "    return va\n",
    "print \"La varianza es igual a: %f\" % varianza(datos)"
   ]
  },
  {
   "cell_type": "markdown",
   "metadata": {},
   "source": [
    "###d)El coeficiente de variación"
   ]
  },
  {
   "cell_type": "code",
   "execution_count": 6,
   "metadata": {
    "collapsed": false
   },
   "outputs": [
    {
     "name": "stdout",
     "output_type": "stream",
     "text": [
      "El coeficiente de variacion es: 7.28 Porciento\n"
     ]
    }
   ],
   "source": [
    "def coeVar(Arrcv):\n",
    "    de=desvEsta(Arrcv)\n",
    "    med=Media(Arrcv)\n",
    "    cv=(de/med)*100\n",
    "    return cv\n",
    "\n",
    "print \"El coeficiente de variacion es: %.2f Porciento\" % coeVar(datos)"
   ]
  },
  {
   "cell_type": "markdown",
   "metadata": {},
   "source": [
    "###e)Intervalo de confianza"
   ]
  },
  {
   "cell_type": "code",
   "execution_count": 7,
   "metadata": {
    "collapsed": false
   },
   "outputs": [
    {
     "name": "stdout",
     "output_type": "stream",
     "text": [
      "El 95porc de los datos esta entre 8.246 y 11.058\n"
     ]
    }
   ],
   "source": [
    "def intconfi(Arric):\n",
    "    y=Media(Arric)\n",
    "    s=desvEsta(Arric)    \n",
    "    inteI=y - 2*s \n",
    "    inteD=y + 2*s\n",
    "    print \"El 95porc de los datos esta entre %.3f y %.3f\" % (inteI,inteD)\n",
    "\n",
    "intconfi(datos)"
   ]
  },
  {
   "cell_type": "markdown",
   "metadata": {},
   "source": [
    "#17.2)\n"
   ]
  },
  {
   "cell_type": "code",
   "execution_count": 8,
   "metadata": {
    "collapsed": false
   },
   "outputs": [],
   "source": [
    "plt.hist(datos,label=\"frecuencias\")\n",
    "plt.legend(loc=\"upper right\")\n",
    "plt.title(\"Histograma\")\n",
    "plt.show()"
   ]
  },
  {
   "cell_type": "markdown",
   "metadata": {},
   "source": [
    "#17.3)"
   ]
  },
  {
   "cell_type": "code",
   "execution_count": 9,
   "metadata": {
    "collapsed": false
   },
   "outputs": [
    {
     "name": "stdout",
     "output_type": "stream",
     "text": [
      "a)La media de los datos es: 28.003571\n",
      "b)La desviacion estandar es: 1.097297\n",
      "c)La varianza es igual a: 1.204061\n",
      "d)El coeficiente de variacion: 3.918418\n",
      "EL intervalo de confianza de 90porc esta en: 27.913319 a 28.093824 \n",
      "EL intervalo de confianza de 68porc esta en: 27.652436 a 28.354706 \n"
     ]
    }
   ],
   "source": [
    "datos2=[28.65,28.65,27.65,29.25,26.55,29.65,28.45,27.65\n",
    "       ,26.65,27.85,28.65,28.65,27.65,27.05,28.45,27.65\n",
    "       ,27.35,28.25,31.65,28.55,28.35,28.35,26.35,27.55\n",
    "       ,26.85,26.75,27.75,27.25]\n",
    "print \"a)La media de los datos es: %f\" % Media(datos2)\n",
    "print \"b)La desviacion estandar es: %f\" % desvEsta(datos2)\n",
    "print \"c)La varianza es igual a: %f\" % varianza(datos2)\n",
    "print \"d)El coeficiente de variacion: %f\" % coeVar(datos2)\n",
    "def intconf90(Arric9):\n",
    "    z=1.645\n",
    "    a=0.05\n",
    "    med=Media(Arric9)\n",
    "    de=desvEsta(Arric9)\n",
    "    interI=med-z*de*a\n",
    "    interD=med+z*de*a\n",
    "    return \"EL intervalo de confianza de 90porc esta en: %f a %f \" % (interI,interD)\n",
    "print intconf90(datos2)\n",
    "plt.hist(datos2,label=\"frecuencias\")\n",
    "plt.legend(loc=\"upper right\")\n",
    "plt.title(\"Histograma\")\n",
    "plt.show()\n",
    "\n",
    "def intconf68(Arric9):\n",
    "    z=1\n",
    "    a=0.32\n",
    "    med=Media(Arric9)\n",
    "    de=desvEsta(Arric9)\n",
    "    interI=med-z*de*a\n",
    "    interD=med+z*de*a\n",
    "    return \"EL intervalo de confianza de 68porc esta en: %f a %f \" % (interI,interD)\n",
    "print intconf68(datos2)"
   ]
  },
  {
   "cell_type": "markdown",
   "metadata": {
    "collapsed": true
   },
   "source": [
    "#17.4)"
   ]
  },
  {
   "cell_type": "code",
   "execution_count": 44,
   "metadata": {
    "collapsed": false
   },
   "outputs": [
    {
     "name": "stdout",
     "output_type": "stream",
     "text": [
      "Regresion por minimos cuadrados de XvsY\n",
      "\n",
      " Datos \n",
      "\n",
      "a1= 0.352470 \n",
      "a0= 4.851535 \n",
      "Error estándar de estimacion: 2.310997\n",
      "Coeficiente de correlacion : 0.914767 \n",
      "Regresion por minimos cuadrados de YvsX\n",
      "\n",
      " Datos \n",
      "\n",
      "a1= 2.374101 \n",
      "a0= -9.967626 \n",
      "Error estándar de estimacion: 7.220458\n",
      "Coeficiente de correlacion : 0.914767 \n"
     ]
    }
   ],
   "source": [
    "x4=[0.0,2.0,4.0,6.0,9.0,11.0,12.0,15.0,17.0,19.0]\n",
    "y4=[5.0,6.0,7.0,6.0,9.0,8.0,7.0,10.0,12.0,12.0]\n",
    "\n",
    "def regreLine(a,b,lbel1,lbel2,tite): \n",
    "    n=len(a)\n",
    "    xy=0.0\n",
    "    xr=0.0\n",
    "    y=0.0\n",
    "    x2=0.0 \n",
    "    y2=0.0\n",
    "    a1=0.0\n",
    "    a0=0.0\n",
    "    r=0.0\n",
    "    for i in range(0,len(a)):\n",
    "        xy=xy + a[i]*b[i]   \n",
    "        xr=xr+a[i]\n",
    "        y=y+b[i]    \n",
    "        x2=x2 + ((a[i])**2)\n",
    "        y2=y2 + ((b[i])**2)\n",
    "    \n",
    "    a1= (n*xy-xr*y)/(n*x2-xr**2)\n",
    "    a0= Media(b) - a1*Media(a)\n",
    "   \n",
    "    print \"\\n Datos \\n\"\n",
    "    print \"a1= %f \" % a1\n",
    "    print \"a0= %f \" % a0\n",
    "    RL=[]\n",
    "    for i in range(0,len(a)):\n",
    "        f=a0 + a1*a[i]\n",
    "        RL.append(f)\n",
    "\n",
    "    pl.plot(a,RL,label=lbel1)\n",
    "    pl.plot(a,b,'o',label=lbel2)\n",
    "    pl.legend(loc=\"lower right\")\n",
    "    pl.title(tite)\n",
    "    pl.grid(True)\n",
    "    pl.show()\n",
    "    \n",
    "    r=(n*xy-xr*y)/(np.sqrt((n*x2-xr**2))*np.sqrt((n*y2-y**2)))\n",
    "    sr=0.0\n",
    "    for i in range(0,len(a)):\n",
    "        sr=sr + (b[i]-a0-a1*(i+1))**2\n",
    "    \n",
    "    syx=math.sqrt(sr/(n-2))\n",
    "    print \"Error estándar de estimacion: %f\" % syx\n",
    "    print \"Coeficiente de correlacion : %f \" % r\n",
    "print \"Regresion por minimos cuadrados de XvsY\"\n",
    "regreLine(x4,y4,\"Regresion\",\"Real\",\"Regresion por minimos cuadrados x vs y\")\n",
    "print \"Regresion por minimos cuadrados de YvsX\"\n",
    "regreLine(y4,x4,\"Regresion\",\"Real\",\"Regresion por minimos cuadrados y vs x\")"
   ]
  },
  {
   "cell_type": "markdown",
   "metadata": {
    "collapsed": true
   },
   "source": [
    "#17.5)"
   ]
  },
  {
   "cell_type": "code",
   "execution_count": 45,
   "metadata": {
    "collapsed": false
   },
   "outputs": [
    {
     "name": "stdout",
     "output_type": "stream",
     "text": [
      "Regresion por minimos cuadrados 1\n",
      "\n",
      " Datos \n",
      "\n",
      "a1= -0.780547 \n",
      "a0= 31.058898 \n",
      "Error estándar de estimacion: 15.420982\n",
      "Coeficiente de correlacion : -0.901489 \n",
      "Regresion por minimos cuadrados añadiendo x=10 & y=10\n",
      "\n",
      " Datos \n",
      "\n",
      "a1= -0.682770 \n",
      "a0= 27.966326 \n",
      "Error estándar de estimacion: 12.994655\n",
      "Coeficiente de correlacion : -0.815879 \n"
     ]
    }
   ],
   "source": [
    "print \"Regresion por minimos cuadrados 1\"\n",
    "x5=[6,7,11,15,17,21,23,29,29,37,39]\n",
    "y5=[29,21,29,14,21,15,7,7,13,0,3]\n",
    "\n",
    "regreLine(x5,y5,\"Regresion\",\"Real\",\"Regresion por minimos cuadrados\")\n",
    "\n",
    "x5=[6,7,11,15,17,21,23,29,29,37,39,10.0]\n",
    "y5=[29,21,29,14,21,15,7,7,13,0,3.0,10.0]\n",
    "print \"Regresion por minimos cuadrados añadiendo x=10 & y=10\"\n",
    "regreLine(x5,y5,\"Regresion\",\"Real\",\"Regresion por minimos cuadrados\")"
   ]
  },
  {
   "cell_type": "markdown",
   "metadata": {},
   "source": [
    "#17.6)"
   ]
  },
  {
   "cell_type": "code",
   "execution_count": 46,
   "metadata": {
    "collapsed": false
   },
   "outputs": [
    {
     "name": "stdout",
     "output_type": "stream",
     "text": [
      "Regresion por minimos cuadrados\n",
      "\n",
      " Datos \n",
      "\n",
      "a1= 0.557678 \n",
      "a0= 0.139037 \n",
      "Error estándar de estimacion: 4.123639\n",
      "Coeficiente de correlacion : 0.917129 \n"
     ]
    }
   ],
   "source": [
    "print \"Regresion por minimos cuadrados\"\n",
    "x6=[2,4,6,7,10,11,14,17,20]\n",
    "y6=[1,2,5,2,8,7,6,9,12]\n",
    "regreLine(x6,y6,\"Regresion\",\"Real\",\"Regresion por minimos cuadrados\")"
   ]
  },
  {
   "cell_type": "code",
   "execution_count": null,
   "metadata": {
    "collapsed": true
   },
   "outputs": [],
   "source": []
  }
 ],
 "metadata": {
  "kernelspec": {
   "display_name": "Python 2",
   "language": "python",
   "name": "python2"
  },
  "language_info": {
   "codemirror_mode": {
    "name": "ipython",
    "version": 2
   },
   "file_extension": ".py",
   "mimetype": "text/x-python",
   "name": "python",
   "nbconvert_exporter": "python",
   "pygments_lexer": "ipython2",
   "version": "2.7.10"
  }
 },
 "nbformat": 4,
 "nbformat_minor": 0
}
