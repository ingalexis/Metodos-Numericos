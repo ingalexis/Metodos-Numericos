{
 "cells": [
  {
   "cell_type": "code",
   "execution_count": 45,
   "metadata": {
    "collapsed": false
   },
   "outputs": [],
   "source": [
    "import numpy as np\n",
    "import matplotlib.pyplot as plt\n",
    "def fx(x):\n",
    "    f=(x**2)-(2*x)+3\n",
    "    return f\n",
    "    \n",
    "def gx(x):\n",
    "    g=(3+(x**2))/2    \n",
    "    return g"
   ]
  },
  {
   "cell_type": "code",
   "execution_count": 53,
   "metadata": {
    "collapsed": false
   },
   "outputs": [
    {
     "name": "stdout",
     "output_type": "stream",
     "text": [
      "i: -10 fx: 1.500000 \n",
      "i: -10 fx: 2.625000 \n",
      "i: -10 fx: 4.945312 \n",
      "i: -10 fx: 13.728058 \n",
      "i: -10 fx: 95.729786 \n",
      "i: -10 fx: 4583.595995 \n",
      "i: -10 fx: 10504677.620978 \n",
      "i: -10 fx: 55174125960344.515625 \n",
      "i: -10 fx: 1522092087743981308447031296.000000 \n",
      "i: -10 fx: 1158382161786415918468013277774436247488820060346122240.000000 \n"
     ]
    }
   ],
   "source": [
    "fg = []\n",
    "#fga = []\n",
    "ia=[]\n",
    "xi=0.0\n",
    "i=-10\n",
    "ii=0\n",
    "while(ii<10):\n",
    "    print \"i: %d fx: %f \" % (i,gx(xi))\n",
    "    xi=gx(xi)\n",
    "    ii+=1\n",
    "    \n",
    "while(i<=10):    \n",
    "    fg.append(fx(i))    \n",
    "    ia.append(i)    \n",
    "    i+=1\n",
    "    \n",
    "plt.plot(ia,fg,'r')\n",
    "plt.grid(True)\n",
    "plt.show()\n"
   ]
  },
  {
   "cell_type": "code",
   "execution_count": null,
   "metadata": {
    "collapsed": true
   },
   "outputs": [],
   "source": []
  }
 ],
 "metadata": {
  "kernelspec": {
   "display_name": "Python 2",
   "language": "python",
   "name": "python2"
  },
  "language_info": {
   "codemirror_mode": {
    "name": "ipython",
    "version": 2
   },
   "file_extension": ".py",
   "mimetype": "text/x-python",
   "name": "python",
   "nbconvert_exporter": "python",
   "pygments_lexer": "ipython2",
   "version": "2.7.10"
  }
 },
 "nbformat": 4,
 "nbformat_minor": 0
}
