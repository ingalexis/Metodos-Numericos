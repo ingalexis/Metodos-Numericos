{
 "cells": [
  {
   "cell_type": "code",
   "execution_count": null,
   "metadata": {
    "collapsed": false
   },
   "outputs": [],
   "source": [
    "import math\n",
    "import numpy as np\n",
    "import pylab as pl\n",
    "m=68.1\n",
    "c=12.5\n",
    "g=9.8\n",
    "Es=0.5*(10**(2-5))\n",
    "n=0\n",
    "aprox=1.0\n",
    "aux=0.0\n",
    "res=1.0\n",
    "x=0.5\n",
    "ress=1.0\n",
    "t=[]\n",
    "analitica=[]\n",
    "aproximada=[]\n",
    "print \"|  t  |  sol1  |  sol2  |  error  |\"\n",
    "while(aprox>Es):\n",
    "    print \"|  %d  |  %.3f | %.3f  |  %f|\" %(n,res,ress,aprox)\n",
    "    #print \"t: %d\" %n\n",
    "    n=n+1\n",
    "    t.append(n)\n",
    "    aux=res\n",
    "    #print \"sol1: %f\" % res\n",
    "    res=((g*m)/c)*(1-math.exp(-(c/m)*n))\n",
    "    analitica.append(res)\n",
    "    aprox=(res-aux)/res\n",
    "    #print \"sol2: %f\" % ress\n",
    "    ress=res+(g-(c/m)*res)\n",
    "    aproximada.append(ress)\n",
    "    #print \"aproximado:%f\" %aprox\n",
    "    \n",
    "print \"|  %d  |  %.3f | %.3f  |  %f|\" %(n,res,ress,aprox)\n",
    "ex = pl.plot(t, analitica, \"b\")\n",
    "ap = pl.plot(t, aproximada, \"y\")\n",
    "pl.title(\"Velocidades de caida\")\n",
    "pl.xlabel(\"Tiempo\")\n",
    "pl.ylabel(\"Velocidad\")\n",
    "pl.xlim(0.0, 50)\n",
    "pl.ylim(0.0, 60)\n",
    "pl.legend([ex, ap], (\"Velocidad exacta\", \"Velocidad aproximada\"), \"best\", numpoints=1)\n",
    "pl.show()"
   ]
  },
  {
   "cell_type": "code",
   "execution_count": null,
   "metadata": {
    "collapsed": true
   },
   "outputs": [],
   "source": []
  },
  {
   "cell_type": "code",
   "execution_count": null,
   "metadata": {
    "collapsed": true
   },
   "outputs": [],
   "source": []
  }
 ],
 "metadata": {
  "kernelspec": {
   "display_name": "Python 2",
   "language": "python",
   "name": "python2"
  },
  "language_info": {
   "codemirror_mode": {
    "name": "ipython",
    "version": 2
   },
   "file_extension": ".py",
   "mimetype": "text/x-python",
   "name": "python",
   "nbconvert_exporter": "python",
   "pygments_lexer": "ipython2",
   "version": "2.7.10"
  }
 },
 "nbformat": 4,
 "nbformat_minor": 0
}
