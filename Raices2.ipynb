{
 "cells": [
  {
   "cell_type": "code",
   "execution_count": 5,
   "metadata": {
    "collapsed": false
   },
   "outputs": [
    {
     "name": "stdout",
     "output_type": "stream",
     "text": [
      "i: 0 \t xi: 1.000000 \t Ea 100.000000 \t Et 76.322284\n",
      "i: 1 \t xi: 0.367879 \t Ea 171.828183 \t Et 35.134657\n",
      "i: 2 \t xi: 0.692201 \t Ea 46.853639 \t Et 22.050395\n",
      "i: 3 \t xi: 0.500474 \t Ea 38.309147 \t Et 11.755370\n"
     ]
    }
   ],
   "source": [
    "import numpy as np\n",
    "import matplotlib.pyplot as plt\n",
    "import math as m\n",
    "def fx(x):\n",
    "    f=(m.e**(-x))-x\n",
    "    return f\n",
    "    \n",
    "def gx(x):\n",
    "    g=m.e**(-x)\n",
    "    return g\n",
    "\n",
    "def Ea(va,vant):\n",
    "    error=abs(((va-vant)/va)*100)\n",
    "    return error\n",
    "\n",
    "vr=0.56714329\n",
    "def Et(vapr):    \n",
    "    error2=abs(((vr-vapr)/vr)*100)\n",
    "    return error2\n",
    "\n",
    "\n",
    "fg = []\n",
    "#fga = []\n",
    "ia=[]\n",
    "xi=0.0\n",
    "i=-2\n",
    "ii=0\n",
    "xil=[]\n",
    "while(ii<4):\n",
    "    #print \"i: %d \\t xi: %f \\t Ea %f \\t Et %f\" % (i,xi,Ea())\n",
    "    xi=gx(xi)\n",
    "    xil.append(xi)\n",
    "    ii+=1\n",
    "    \n",
    "ii=1\n",
    "print \"i: 0 \\t xi: %f \\t Ea %f \\t Et %f\" %(xil[0],Ea(xil[0],0),Et(xil[0]))\n",
    "while(ii<4):\n",
    "    print \"i: %d \\t xi: %f \\t Ea %f \\t Et %f\" %(ii,xil[ii],Ea(xil[ii],xil[ii-1]),Et(xil[ii]))\n",
    "    ii+=1\n",
    "    \n",
    "    \n",
    "while(i<=2):    \n",
    "    fg.append(fx(i))    \n",
    "    ia.append(i)    \n",
    "    i+=1\n",
    "    \n",
    "plt.plot(ia,fg,'r')\n",
    "plt.grid(True)\n",
    "plt.show()"
   ]
  },
  {
   "cell_type": "code",
   "execution_count": null,
   "metadata": {
    "collapsed": true
   },
   "outputs": [],
   "source": []
  },
  {
   "cell_type": "code",
   "execution_count": null,
   "metadata": {
    "collapsed": true
   },
   "outputs": [],
   "source": []
  }
 ],
 "metadata": {
  "kernelspec": {
   "display_name": "Python 2",
   "language": "python",
   "name": "python2"
  },
  "language_info": {
   "codemirror_mode": {
    "name": "ipython",
    "version": 2
   },
   "file_extension": ".py",
   "mimetype": "text/x-python",
   "name": "python",
   "nbconvert_exporter": "python",
   "pygments_lexer": "ipython2",
   "version": "2.7.10"
  }
 },
 "nbformat": 4,
 "nbformat_minor": 0
}
