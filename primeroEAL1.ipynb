{
 "cells": [
  {
   "cell_type": "markdown",
   "metadata": {
    "collapsed": false
   },
   "source": [
    "#Primero Taller EAL1\n"
   ]
  },
  {
   "cell_type": "code",
   "execution_count": null,
   "metadata": {
    "collapsed": true
   },
   "outputs": [],
   "source": [
    "def crearMatriz(n,m):\n",
    "    matriz = []\n",
    "    for i in range(n):\n",
    "        matriz.append([])\n",
    "        for j in range(m):\n",
    "            numero=input(\"ingrese %d%d:\" % (i,j))\n",
    "            matriz[i].append(numero)        \n",
    "    return matriz\n",
    "    \n",
    "\n",
    "\n",
    "factor=0.0\n",
    "\n",
    "def eliminacionHaciaAdelante():    \n",
    "    n=input(\"Ingrese n: \")    \n",
    "    a=crearMatriz(n,n)\n",
    "    b=[]\n",
    "    x= [0.0]*n\n",
    "    for i in range(0,n):\n",
    "        b.append(input(\"Ingrese b[%d]\" % i))\n",
    "    for k in range(0,n-1):\n",
    "        for i in range(k+1,n):\n",
    "            factor=(a[i][k])/(a[k][k])\n",
    "            for j in range(k,n):\n",
    "                a[i][j]=a[i][j]-factor*a[k][j]\n",
    "            b[i]=b[i]-factor*b[k]\n",
    "            \n",
    "    print a\n",
    "    x[n-1]=b[n-1]/a[n-1][n-1]\n",
    "    for i in range(n-1,-1,-1):\n",
    "        sum=b[i]\n",
    "        for j in range(i+1,n):\n",
    "            sum=sum - (a[i][j])*x[j]\n",
    "        x[i]=sum/a[i][i]\n",
    "    print x\n",
    "            \n",
    "eliminacionHaciaAdelante()"
   ]
  }
 ],
 "metadata": {
  "kernelspec": {
   "display_name": "Python 2",
   "language": "python",
   "name": "python2"
  },
  "language_info": {
   "codemirror_mode": {
    "name": "ipython",
    "version": 2
   },
   "file_extension": ".py",
   "mimetype": "text/x-python",
   "name": "python",
   "nbconvert_exporter": "python",
   "pygments_lexer": "ipython2",
   "version": "2.7.10"
  }
 },
 "nbformat": 4,
 "nbformat_minor": 0
}
