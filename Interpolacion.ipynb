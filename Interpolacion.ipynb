{
 "cells": [
  {
   "cell_type": "markdown",
   "metadata": {},
   "source": [
    "#Interpolación lineal"
   ]
  },
  {
   "cell_type": "code",
   "execution_count": 2,
   "metadata": {
    "collapsed": false
   },
   "outputs": [],
   "source": [
    "import math\n",
    "import numpy as np\n",
    "import pylab as pl\n",
    "\n",
    "\n",
    "\n",
    "def f(x):\n",
    "    re=np.log(x)\n",
    "    return re\n",
    "\n",
    "def calculaM(y1,y0):    \n",
    "    m=(f(y1)-f(y0))/(y1-y0)   \n",
    "    return m\n",
    "\n",
    "def f1(x0,x1,x):\n",
    "    re1=f(x0)+(calculaM(x1,x0)*(x-x0))\n",
    "    return re1\n",
    "\n",
    "x0=1.0\n",
    "x1=4.0\n",
    "x=[1.0,2.0,3.0]\n",
    "y=[]\n",
    "I=[]\n",
    "for i in x:   \n",
    "    y.append(f(i))\n",
    "    I.append(f1(x0,x1,i))      \n",
    "    x0=x0+1.0\n",
    "    x1=x1+1.0\n",
    "    \n",
    "    \n",
    "    \n",
    "pl.plot(x,y,\"o\",label=\"ln(x)\")\n",
    "pl.plot(x,I,label=\"Interp\")\n",
    "pl.legend(loc=\"lower right\")\n",
    "pl.title(\"Grafica de ln\")\n",
    "pl.grid(True)\n",
    "pl.show()\n"
   ]
  },
  {
   "cell_type": "markdown",
   "metadata": {},
   "source": [
    "#Interpolacion cuadratica"
   ]
  },
  {
   "cell_type": "code",
   "execution_count": 7,
   "metadata": {
    "collapsed": false
   },
   "outputs": [
    {
     "name": "stdout",
     "output_type": "stream",
     "text": [
      "El f2(2.0) es igual a: 0.565844 \n"
     ]
    }
   ],
   "source": [
    "x0=1.0\n",
    "x1=4.0\n",
    "X=2.0\n",
    "x2=6.0\n",
    "b0=f(x0)\n",
    "b1=calculaM(x1,x0)\n",
    "b2=(calculaM(x2,x1)-b1)/(x2-x0)\n",
    "res=b0+b1*(X-x0)+b2*(X-x0)*(X-x1)\n",
    "print \"El f2(%.1f) es igual a: %f \" % (X,res)\n",
    "def grafintcua(q):\n",
    "    ap=b0+b1*(q-x0)+b2*(q-x0)*(q-x1)\n",
    "    return ap\n",
    "yy=[]\n",
    "y2=[]\n",
    "x2=[1.0,2.0,3.0,4.0,5.0,6.0]\n",
    "for i in x2:\n",
    "    yy.append(grafintcua(i))\n",
    "for j in range(len(x2)):\n",
    "    y2.append(f(x2[j]))\n",
    "pl.plot(x2,yy,\"--\",label=\"Interp\")\n",
    "pl.plot(x2,y2,label=\"Ln(x)\")\n",
    "pl.plot(x2,y2,'o')\n",
    "pl.legend(loc=\"lower right\")\n",
    "pl.grid(True)\n",
    "pl.show()"
   ]
  },
  {
   "cell_type": "code",
   "execution_count": null,
   "metadata": {
    "collapsed": true
   },
   "outputs": [],
   "source": []
  }
 ],
 "metadata": {
  "kernelspec": {
   "display_name": "Python 2",
   "language": "python",
   "name": "python2"
  },
  "language_info": {
   "codemirror_mode": {
    "name": "ipython",
    "version": 2
   },
   "file_extension": ".py",
   "mimetype": "text/x-python",
   "name": "python",
   "nbconvert_exporter": "python",
   "pygments_lexer": "ipython2",
   "version": "2.7.10"
  }
 },
 "nbformat": 4,
 "nbformat_minor": 0
}
