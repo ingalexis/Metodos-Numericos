{
 "cells": [
  {
   "cell_type": "code",
   "execution_count": 9,
   "metadata": {
    "collapsed": false
   },
   "outputs": [
    {
     "name": "stdout",
     "output_type": "stream",
     "text": [
      "i \t | \t xi \t | \t ea \t | \t et  \n",
      "-1 \t | \t 0 \t | \t - \t | \t 1.000000 \n",
      "0 \t | \t 1  \t |  1.000000 \t | \t 0.763223 \n",
      "1 \t |  0.612700  \t |  0.632121 \t | \t 0.080326 \n",
      "2 \t |  0.563838  \t |  0.086659 \t | \t 0.005827 \n",
      "3 \t |  0.567170  \t |  0.005875 \t | \t 0.000048 \n",
      "4 \t |  0.567143  \t |  0.000048 \t | \t 0.000000 \n"
     ]
    }
   ],
   "source": [
    "import numpy as np\n",
    "import matplotlib.pyplot as pl\n",
    "import math as m\n",
    "\n",
    "def f(x):\n",
    "    fx=(m.exp(-x))-x\n",
    "    return fx\n",
    "\n",
    "def fp(x):\n",
    "    fx=(-m.exp(-x))-1\n",
    "    return fx\n",
    "\n",
    "def secante(xi,xia):\n",
    "    xii=xi-((f(xi)*(xi-xia))/(f(xi)-f(xia)))\n",
    "    return xii\n",
    "\n",
    "def ea(valoractual,valoranterior):\n",
    "    error=abs((valoractual-valoranterior)/valoractual)\n",
    "    return error\n",
    "\n",
    "def et(valoraprox):   \n",
    "    valorreal=0.56714329\n",
    "    errort=abs((valorreal-valoraprox)/valorreal)\n",
    "    return errort\n",
    "\n",
    "\n",
    "print \"i \\t | \\t xi \\t | \\t ea \\t | \\t et  \"\n",
    "i=-1\n",
    "print \"%d \\t | \\t 0 \\t | \\t - \\t | \\t %f \" % (i,et(0))\n",
    "i+=1\n",
    "print \"%d \\t | \\t 1  \\t |  %f \\t | \\t %f \" % (i,ea(1,0),et(1))\n",
    "i+=1\n",
    "vl=secante(1,0)\n",
    "aux=vl\n",
    "print \"%d \\t |  %f  \\t |  %f \\t | \\t %f \" % (i,vl,ea(vl,1),et(vl))\n",
    "i+=1\n",
    "auxa=vl\n",
    "vl=secante(aux,1)\n",
    "print \"%d \\t |  %f  \\t |  %f \\t | \\t %f \" % (i,vl,ea(vl,aux),et(vl))\n",
    "while(ea(vl,aux)>=0.00005):\n",
    "    aux=vl    \n",
    "    i+=1\n",
    "    vl=secante(aux,auxa)\n",
    "    auxa=aux\n",
    "    print \"%d \\t |  %f  \\t |  %f \\t | \\t %f \" % (i,vl,ea(vl,aux),et(vl))\n",
    "    "
   ]
  },
  {
   "cell_type": "code",
   "execution_count": null,
   "metadata": {
    "collapsed": true
   },
   "outputs": [],
   "source": []
  }
 ],
 "metadata": {
  "kernelspec": {
   "display_name": "Python 2",
   "language": "python",
   "name": "python2"
  },
  "language_info": {
   "codemirror_mode": {
    "name": "ipython",
    "version": 2
   },
   "file_extension": ".py",
   "mimetype": "text/x-python",
   "name": "python",
   "nbconvert_exporter": "python",
   "pygments_lexer": "ipython2",
   "version": "2.7.10"
  }
 },
 "nbformat": 4,
 "nbformat_minor": 0
}
