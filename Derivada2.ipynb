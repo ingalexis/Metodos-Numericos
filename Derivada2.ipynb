{
 "cells": [
  {
   "cell_type": "code",
   "execution_count": 35,
   "metadata": {
    "collapsed": true
   },
   "outputs": [],
   "source": [
    "import math"
   ]
  },
  {
   "cell_type": "code",
   "execution_count": 36,
   "metadata": {
    "collapsed": true
   },
   "outputs": [],
   "source": [
    "def f(x):\n",
    "    ecuacion = math.cos(x)\n",
    "    return ecuacion"
   ]
  },
  {
   "cell_type": "code",
   "execution_count": 37,
   "metadata": {
    "collapsed": false
   },
   "outputs": [],
   "source": [
    "def fi(orden):\n",
    "    x=math.pi/4\n",
    "    xi=math.pi/3\n",
    "    i=0\n",
    "    h = xi - x\n",
    "    calculo=0.0\n",
    "    aux= f(xi)\n",
    "    while i<=orden:\n",
    "        #if(i>0):\n",
    "            #aux=calculo\n",
    "        if i==0:\n",
    "            calculo+=math.cos(x)\n",
    "            #print calculo\n",
    "        elif i==1:\n",
    "            calculo+=(-(math.sin(x))*h)\n",
    "        elif i==2:\n",
    "            calculo+=(-(math.cos(x))*(h**2))/math.factorial(i)\n",
    "        elif i==3:\n",
    "            calculo+=(math.sin(x)*(h**3))/math.factorial(i)\n",
    "        elif i==4:\n",
    "            calculo+=(math.cos(x)*(h**4))/math.factorial(i)\n",
    "        elif i==5:\n",
    "            calculo+=(-(math.sin(x))*(h**5))/math.factorial(i)\n",
    "         \n",
    "        elif i==6:\n",
    "            calculo+=(-(math.cos(x))*(h**6))/math.factorial(i)\n",
    "        \n",
    "        et=((aux-calculo)/aux)*100\n",
    "        print \"Orden %d f(x) %f error %f\" %(i,calculo,et)\n",
    "        i+=1\n",
    "    #print calculo "
   ]
  },
  {
   "cell_type": "code",
   "execution_count": 34,
   "metadata": {
    "collapsed": false
   },
   "outputs": [
    {
     "name": "stdout",
     "output_type": "stream",
     "text": [
      "ingrese orden: 6\n",
      "Orden 0 f(x) 0.707107 error -41.421356\n",
      "Orden 1 f(x) 0.521987 error -4.397332\n",
      "Orden 2 f(x) 0.497754 error 0.449102\n",
      "Orden 3 f(x) 0.499869 error 0.026171\n",
      "Orden 4 f(x) 0.500008 error -0.001510\n",
      "Orden 5 f(x) 0.500000 error -0.000061\n",
      "Orden 6 f(x) 0.500000 error 0.000002\n"
     ]
    }
   ],
   "source": [
    "ord = input(\"ingrese orden: \")\n",
    "fi(ord)\n"
   ]
  },
  {
   "cell_type": "code",
   "execution_count": null,
   "metadata": {
    "collapsed": true
   },
   "outputs": [],
   "source": []
  }
 ],
 "metadata": {
  "kernelspec": {
   "display_name": "Python 2",
   "language": "python",
   "name": "python2"
  },
  "language_info": {
   "codemirror_mode": {
    "name": "ipython",
    "version": 2
   },
   "file_extension": ".py",
   "mimetype": "text/x-python",
   "name": "python",
   "nbconvert_exporter": "python",
   "pygments_lexer": "ipython2",
   "version": "2.7.10"
  }
 },
 "nbformat": 4,
 "nbformat_minor": 0
}
